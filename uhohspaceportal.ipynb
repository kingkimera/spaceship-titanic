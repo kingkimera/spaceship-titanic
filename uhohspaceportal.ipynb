{
  "nbformat": 4,
  "nbformat_minor": 0,
  "metadata": {
    "colab": {
      "name": "uhohspaceportal.ipynb",
      "provenance": [],
      "authorship_tag": "ABX9TyP/D6OaDGwru7LOim5PEsyd",
      "include_colab_link": true
    },
    "kernelspec": {
      "name": "python3",
      "display_name": "Python 3"
    },
    "language_info": {
      "name": "python"
    }
  },
  "cells": [
    {
      "cell_type": "markdown",
      "metadata": {
        "id": "view-in-github",
        "colab_type": "text"
      },
      "source": [
        "<a href=\"https://colab.research.google.com/github/kingkimera/spaceship-titanic/blob/main/uhohspaceportal.ipynb\" target=\"_parent\"><img src=\"https://colab.research.google.com/assets/colab-badge.svg\" alt=\"Open In Colab\"/></a>"
      ]
    },
    {
      "cell_type": "code",
      "execution_count": 1,
      "metadata": {
        "colab": {
          "base_uri": "https://localhost:8080/"
        },
        "id": "F38RfMHF0yLI",
        "outputId": "ee0369e8-c566-489c-b119-9d95b83bfc84"
      },
      "outputs": [
        {
          "output_type": "stream",
          "name": "stdout",
          "text": [
            "Mounted at /content/drive\n"
          ]
        }
      ],
      "source": [
        "from google.colab import drive\n",
        "\n",
        "\n",
        "drive.mount('/content/drive')"
      ]
    },
    {
      "cell_type": "code",
      "source": [
        "import pandas as pd\n",
        "import matplotlib.pyplot as plt\n",
        "from matplotlib_venn import venn2"
      ],
      "metadata": {
        "id": "kdBR9vAB3OXe"
      },
      "execution_count": 8,
      "outputs": []
    },
    {
      "cell_type": "code",
      "source": [
        "data = pd.read_csv('/content/drive/MyDrive/spaceship-titanic/data/train.csv')"
      ],
      "metadata": {
        "id": "_-i5h7pj1QC4"
      },
      "execution_count": 24,
      "outputs": []
    },
    {
      "cell_type": "code",
      "source": [
        "data[\"TRANSPORTED\"] = data['Transported'].astype(int)\n",
        "data.head()\n",
        "data.shape"
      ],
      "metadata": {
        "colab": {
          "base_uri": "https://localhost:8080/"
        },
        "id": "WdEG_2qW7-6l",
        "outputId": "98426268-a0ca-435c-abcf-ca5892dd9d16"
      },
      "execution_count": 59,
      "outputs": [
        {
          "output_type": "execute_result",
          "data": {
            "text/plain": [
              "(8693, 15)"
            ]
          },
          "metadata": {},
          "execution_count": 59
        }
      ]
    },
    {
      "cell_type": "code",
      "source": [
        "data[\"HomePlanet\"].unique()"
      ],
      "metadata": {
        "colab": {
          "base_uri": "https://localhost:8080/"
        },
        "id": "KD-JC1XN2Ugh",
        "outputId": "4755d4fb-0a10-43a8-c760-38eeb7d4d43c"
      },
      "execution_count": 67,
      "outputs": [
        {
          "output_type": "execute_result",
          "data": {
            "text/plain": [
              "array(['Europa', 'Earth', 'Mars', nan], dtype=object)"
            ]
          },
          "metadata": {},
          "execution_count": 67
        }
      ]
    },
    {
      "cell_type": "code",
      "source": [
        "# Use the venn2 function\n",
        "def make_venn(planet):\n",
        "  count = 0\n",
        "  origin = 0\n",
        "  intersection = 0\n",
        "  for i in range(8693):\n",
        "    if data[\"TRANSPORTED\"][i] == 1:\n",
        "      count +=1\n",
        "    if data[\"HomePlanet\"][i] == planet:\n",
        "      origin +=1\n",
        "    if data[\"HomePlanet\"][i] == planet and data[\"TRANSPORTED\"][i] == 1:\n",
        "      intersection +=1\n",
        "\n",
        "  print(\"Number of people zapped: \",count)\n",
        "  print(\"Number of people from \",planet,\" zapped: \",intersection)\n",
        "  print(\"Number of people from \",planet,\":\",origin)\n",
        "  venn2(subsets = (count, origin, intersection), set_labels = ('People Zapped', 'People from ',planet))\n",
        "  plt.show()"
      ],
      "metadata": {
        "id": "SoRxbp784LZb"
      },
      "execution_count": 75,
      "outputs": []
    },
    {
      "cell_type": "code",
      "source": [
        "make_venn(\"Earth\")"
      ],
      "metadata": {
        "colab": {
          "base_uri": "https://localhost:8080/",
          "height": 304
        },
        "id": "PwR5q8QQBNkf",
        "outputId": "535d2d6c-e6ee-4d0c-a6e4-38979950c56c"
      },
      "execution_count": 76,
      "outputs": [
        {
          "output_type": "stream",
          "name": "stdout",
          "text": [
            "Number of people zapped:  4378\n",
            "Number of people from  Earth  zapped:  1951\n",
            "Number of people from  Earth : 4602\n"
          ]
        },
        {
          "output_type": "display_data",
          "data": {
            "text/plain": [
              "<Figure size 432x288 with 1 Axes>"
            ],
            "image/png": "[encoded data removed]"
          },
          "metadata": {}
        }
      ]
    },
    {
      "cell_type": "code",
      "source": [
        "make_venn(\"Mars\")"
      ],
      "metadata": {
        "colab": {
          "base_uri": "https://localhost:8080/",
          "height": 305
        },
        "id": "MYYXb7N3Dj4s",
        "outputId": "7eeba625-bac2-49d9-d27e-cf6a5ecc29a0"
      },
      "execution_count": 77,
      "outputs": [
        {
          "output_type": "stream",
          "name": "stdout",
          "text": [
            "Number of people zapped:  4378\n",
            "Number of people from  Mars  zapped:  920\n",
            "Number of people from  Mars : 1759\n"
          ]
        },
        {
          "output_type": "display_data",
          "data": {
            "text/plain": [
              "<Figure size 432x288 with 1 Axes>"
            ],
            "image/png": "[encoded data removed]"
          },
          "metadata": {}
        }
      ]
    },
    {
      "cell_type": "code",
      "source": [
        "make_venn(\"Europa\")"
      ],
      "metadata": {
        "colab": {
          "base_uri": "https://localhost:8080/",
          "height": 305
        },
        "id": "1G5sg-AaDm73",
        "outputId": "89f14f8d-2c4d-472b-99c2-90c74b707fa1"
      },
      "execution_count": 78,
      "outputs": [
        {
          "output_type": "stream",
          "name": "stdout",
          "text": [
            "Number of people zapped:  4378\n",
            "Number of people from  Europa  zapped:  1404\n",
            "Number of people from  Europa : 2131\n"
          ]
        },
        {
          "output_type": "display_data",
          "data": {
            "text/plain": [
              "<Figure size 432x288 with 1 Axes>"
            ],
            "image/png": "[encoded data removed]"
          },
          "metadata": {}
        }
      ]
    },
    {
      "cell_type": "code",
      "source": [
        ""
      ],
      "metadata": {
        "colab": {
          "base_uri": "https://localhost:8080/",
          "height": 169
        },
        "id": "pSyxajV9EGW-",
        "outputId": "7136f288-2e4b-414b-c544-e68543ef7451"
      },
      "execution_count": 80,
      "outputs": [
        {
          "output_type": "error",
          "ename": "NameError",
          "evalue": "ignored",
          "traceback": [
            "\u001b[0;31m---------------------------------------------------------------------------\u001b[0m",
            "\u001b[0;31mNameError\u001b[0m                                 Traceback (most recent call last)",
            "\u001b[0;32m<ipython-input-80-c25354ccbb6f>\u001b[0m in \u001b[0;36m<module>\u001b[0;34m()\u001b[0m\n\u001b[0;32m----> 1\u001b[0;31m \u001b[0mmake_venn\u001b[0m\u001b[0;34m(\u001b[0m\u001b[0mnan\u001b[0m\u001b[0;34m)\u001b[0m\u001b[0;34m\u001b[0m\u001b[0;34m\u001b[0m\u001b[0m\n\u001b[0m",
            "\u001b[0;31mNameError\u001b[0m: name 'nan' is not defined"
          ]
        }
      ]
    }
  ]
}